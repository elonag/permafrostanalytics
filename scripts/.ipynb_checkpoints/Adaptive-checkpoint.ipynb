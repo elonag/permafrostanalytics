{
 "cells": [
  {
   "cell_type": "code",
   "execution_count": 22,
   "metadata": {},
   "outputs": [],
   "source": [
    "import pandas as pd\n",
    "import numpy as np\n",
    "import matplotlib.pyplot as plt\n",
    "import xgboost as xgb\n",
    "from sklearn.model_selection import train_test_split\n",
    "import statsmodels.api as sm\n",
    "\n",
    "# all data\n",
    "prec = pd.read_csv('../data/MH25_vaisalawxt520prec_2017.csv')\n",
    "wind = pd.read_csv('../data/MH25_vaisalawxt520windpth_2017.csv')\n",
    "temp = pd.read_csv('../data/MH30_temperature_rock_2017.csv')\n",
    "radio = pd.read_csv('../data/MH15_radiometer__conv_2017.csv')\n",
    "\n",
    "# join all data by time\n",
    "temp0 = pd.merge(left=temp, right=prec, left_on='time', right_on='time')\n",
    "temp0 = pd.merge(left=temp0, right=wind, left_on='time', right_on='time')\n",
    "temp0 = pd.merge(left=temp0, right=radio, left_on='time', right_on='time')\n",
    "\n",
    "# format season and remove datetime\n",
    "temp0['time'] = pd.to_datetime(temp0['time'])\n",
    "temp0['season'] = np.round(pd.DatetimeIndex(temp0['time']).month/3)\n",
    "del temp0['time']\n",
    "\n",
    "# difference between ground and deepest temperature --> objective\n",
    "diff = abs(temp0['temperature_100cm [°C]'] - temp0['temperature_5cm [°C]'])\n",
    "temp0.insert(0, 'delta_t', diff)\n",
    "\n",
    "# shift \n",
    "temp0['delta_t'] = temp0['delta_t'].shift(-1)\n",
    "\n",
    "# remove useless columns\n",
    "del temp0['position []_x']\n",
    "del temp0['position []_y']\n",
    "\n",
    "# show correlation (within same time period)\n",
    "#print(abs(temp0.corr()['delta_t']).sort_values(ascending=False))\n",
    "\n",
    "# clean column names and remove inf/nas\n",
    "temp0.columns = temp0.columns.str.replace(\"[\", \"_\")\n",
    "temp0.columns = temp0.columns.str.replace(\"]\", \"_\")\n",
    "temp0 = temp0.fillna(0)"
   ]
  },
  {
   "cell_type": "code",
   "execution_count": 27,
   "metadata": {},
   "outputs": [
    {
     "name": "stdout",
     "output_type": "stream",
     "text": [
      "The RMSE is 0.24804520694776622\n"
     ]
    }
   ],
   "source": [
    "n = temp0.shape[0]\n",
    "preds = np.zeros(shape=(n,))\n",
    "for i in range(1,n):\n",
    "    preds[i] = temp0.iloc[i-1,0]\n",
    "    \n",
    "# to compare it with the test data (y_test)\n",
    "sep = int(np.round(0.7 * n))\n",
    "\n",
    "y_test = temp0.iloc[sep+1:n, 0]\n",
    "preds = preds[sep+1:]\n",
    "\n",
    "\n",
    "ae = abs(preds-y_test)\n",
    "se = np.sqrt((ae ** 2).mean())\n",
    "print(\"The RMSE is \" + str(se))\n",
    "\n",
    "\n"
   ]
  },
  {
   "cell_type": "code",
   "execution_count": null,
   "metadata": {},
   "outputs": [],
   "source": []
  }
 ],
 "metadata": {
  "kernelspec": {
   "display_name": "Python 3",
   "language": "python",
   "name": "python3"
  },
  "language_info": {
   "codemirror_mode": {
    "name": "ipython",
    "version": 3
   },
   "file_extension": ".py",
   "mimetype": "text/x-python",
   "name": "python",
   "nbconvert_exporter": "python",
   "pygments_lexer": "ipython3",
   "version": "3.7.0"
  }
 },
 "nbformat": 4,
 "nbformat_minor": 4
}
