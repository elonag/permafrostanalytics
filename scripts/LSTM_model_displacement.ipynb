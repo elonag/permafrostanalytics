{
 "cells": [
  {
   "cell_type": "markdown",
   "metadata": {},
   "source": [
    "Displacement data can be found in RIOT"
   ]
  },
  {
   "cell_type": "markdown",
   "metadata": {},
   "source": [
    "## Load the libraries"
   ]
  },
  {
   "cell_type": "code",
   "execution_count": 1,
   "metadata": {},
   "outputs": [],
   "source": [
    "import pandas as pd\n",
    "import numpy as np\n",
    "import matplotlib.pyplot as plt\n",
    "#import xgboost as xgb\n",
    "import tensorflow.keras\n",
    "from sklearn.model_selection import train_test_split\n",
    "import statsmodels.api as sm\n",
    "from sklearn import metrics"
   ]
  },
  {
   "cell_type": "markdown",
   "metadata": {},
   "source": [
    "## Load the data"
   ]
  },
  {
   "cell_type": "code",
   "execution_count": 2,
   "metadata": {},
   "outputs": [],
   "source": [
    "prec = pd.read_csv('../data/timeseries_derived_data_products/MH25_vaisalawxt520prec_2017.csv', parse_dates=['time'])\n",
    "wind = pd.read_csv('../data/timeseries_derived_data_products/MH25_vaisalawxt520windpth_2017.csv', parse_dates=['time'])\n",
    "temp = pd.read_csv('../data/timeseries_derived_data_products/MH30_temperature_rock_2017.csv', parse_dates=['time'])\n",
    "radio = pd.read_csv('../data/timeseries_derived_data_products/MH15_radiometer__conv_2017.csv', parse_dates=['time'])\n",
    "displ = pd.read_csv('../data/MH8_displacement_2017_processed.csv')"
   ]
  },
  {
   "cell_type": "code",
   "execution_count": 3,
   "metadata": {},
   "outputs": [],
   "source": [
    "displ = displ[['timed','displacement_dx1']]"
   ]
  },
  {
   "cell_type": "code",
   "execution_count": 4,
   "metadata": {},
   "outputs": [],
   "source": [
    "displ = displ.set_index(displ['timed'])"
   ]
  },
  {
   "cell_type": "code",
   "execution_count": 5,
   "metadata": {},
   "outputs": [],
   "source": [
    "displ.index = pd.to_datetime(displ.index, utc=True)"
   ]
  },
  {
   "cell_type": "code",
   "execution_count": 6,
   "metadata": {},
   "outputs": [
    {
     "name": "stderr",
     "output_type": "stream",
     "text": [
      "C:\\ProgramData\\Anaconda3\\lib\\site-packages\\ipykernel_launcher.py:1: FutureWarning: how in .resample() is deprecated\n",
      "the new syntax is .resample(...).mean()\n",
      "  \"\"\"Entry point for launching an IPython kernel.\n"
     ]
    }
   ],
   "source": [
    "displ = displ.resample('60Min', how='mean', base=0)"
   ]
  },
  {
   "cell_type": "code",
   "execution_count": 7,
   "metadata": {},
   "outputs": [
    {
     "name": "stderr",
     "output_type": "stream",
     "text": [
      "C:\\ProgramData\\Anaconda3\\lib\\site-packages\\pandas\\core\\arrays\\datetimes.py:1269: UserWarning: Converting to PeriodArray/Index representation will drop timezone information.\n",
      "  UserWarning,\n"
     ]
    },
    {
     "data": {
      "image/png": "[encoded data removed]",
      "text/plain": [
       "<Figure size 432x288 with 1 Axes>"
      ]
     },
     "metadata": {
      "needs_background": "light"
     },
     "output_type": "display_data"
    }
   ],
   "source": [
    "displ.plot()\n",
    "plt.show()"
   ]
  },
  {
   "cell_type": "code",
   "execution_count": 8,
   "metadata": {},
   "outputs": [],
   "source": [
    "displ = displ.dropna()"
   ]
  },
  {
   "cell_type": "markdown",
   "metadata": {},
   "source": [
    "## Merge the datasets"
   ]
  },
  {
   "cell_type": "code",
   "execution_count": 9,
   "metadata": {},
   "outputs": [],
   "source": [
    "temp_inner = pd.merge(left= temp, right=prec, left_on='time',right_on='time')\n",
    "temp_inner = pd.merge(left= temp_inner, right=wind, left_on='time',right_on='time')\n",
    "temp_inner = pd.merge(left=temp_inner, right=radio, left_on='time',right_on='time')\n",
    "temp_inner = pd.merge(left=temp_inner, right=displ, left_on='time',right_on='timed')"
   ]
  },
  {
   "cell_type": "markdown",
   "metadata": {},
   "source": [
    "## Select Columns"
   ]
  },
  {
   "cell_type": "code",
   "execution_count": 10,
   "metadata": {},
   "outputs": [
    {
     "data": {
      "text/html": [
       "<div>\n",
       "<style scoped>\n",
       "    .dataframe tbody tr th:only-of-type {\n",
       "        vertical-align: middle;\n",
       "    }\n",
       "\n",
       "    .dataframe tbody tr th {\n",
       "        vertical-align: top;\n",
       "    }\n",
       "\n",
       "    .dataframe thead th {\n",
       "        text-align: right;\n",
       "    }\n",
       "</style>\n",
       "<table border=\"1\" class=\"dataframe\">\n",
       "  <thead>\n",
       "    <tr style=\"text-align: right;\">\n",
       "      <th></th>\n",
       "      <th>temperature_5cm [°C]</th>\n",
       "      <th>temperature_10cm [°C]</th>\n",
       "      <th>temperature_20cm [°C]</th>\n",
       "      <th>temperature_30cm [°C]</th>\n",
       "      <th>temperature_50cm [°C]</th>\n",
       "      <th>temperature_100cm [°C]</th>\n",
       "      <th>wind_speed_average [km/h]</th>\n",
       "      <th>net_radiation [Wm^-2]</th>\n",
       "      <th>season</th>\n",
       "      <th>displacement_dx1</th>\n",
       "    </tr>\n",
       "  </thead>\n",
       "  <tbody>\n",
       "    <tr>\n",
       "      <td>0</td>\n",
       "      <td>-9.4934</td>\n",
       "      <td>-9.1609</td>\n",
       "      <td>-8.7378</td>\n",
       "      <td>-8.4231</td>\n",
       "      <td>-7.9328</td>\n",
       "      <td>-7.1922</td>\n",
       "      <td>6.2129</td>\n",
       "      <td>-103.3271</td>\n",
       "      <td>0.0</td>\n",
       "      <td>24.508750</td>\n",
       "    </tr>\n",
       "    <tr>\n",
       "      <td>1</td>\n",
       "      <td>-9.5680</td>\n",
       "      <td>-9.2330</td>\n",
       "      <td>-8.8027</td>\n",
       "      <td>-8.4813</td>\n",
       "      <td>-7.9573</td>\n",
       "      <td>-7.2040</td>\n",
       "      <td>6.6033</td>\n",
       "      <td>-103.3083</td>\n",
       "      <td>0.0</td>\n",
       "      <td>24.509348</td>\n",
       "    </tr>\n",
       "    <tr>\n",
       "      <td>2</td>\n",
       "      <td>-9.6568</td>\n",
       "      <td>-9.3084</td>\n",
       "      <td>-8.8668</td>\n",
       "      <td>-8.5235</td>\n",
       "      <td>-7.9845</td>\n",
       "      <td>-7.2081</td>\n",
       "      <td>7.8323</td>\n",
       "      <td>-102.9365</td>\n",
       "      <td>0.0</td>\n",
       "      <td>24.509739</td>\n",
       "    </tr>\n",
       "    <tr>\n",
       "      <td>3</td>\n",
       "      <td>-9.7203</td>\n",
       "      <td>-9.3797</td>\n",
       "      <td>-8.9384</td>\n",
       "      <td>-8.5756</td>\n",
       "      <td>-8.0103</td>\n",
       "      <td>-7.2166</td>\n",
       "      <td>8.9094</td>\n",
       "      <td>-101.0145</td>\n",
       "      <td>0.0</td>\n",
       "      <td>24.511487</td>\n",
       "    </tr>\n",
       "    <tr>\n",
       "      <td>4</td>\n",
       "      <td>-9.7547</td>\n",
       "      <td>-9.4270</td>\n",
       "      <td>-8.9953</td>\n",
       "      <td>-8.6287</td>\n",
       "      <td>-8.0473</td>\n",
       "      <td>-7.2120</td>\n",
       "      <td>10.2742</td>\n",
       "      <td>-101.7435</td>\n",
       "      <td>0.0</td>\n",
       "      <td>24.513250</td>\n",
       "    </tr>\n",
       "    <tr>\n",
       "      <td>...</td>\n",
       "      <td>...</td>\n",
       "      <td>...</td>\n",
       "      <td>...</td>\n",
       "      <td>...</td>\n",
       "      <td>...</td>\n",
       "      <td>...</td>\n",
       "      <td>...</td>\n",
       "      <td>...</td>\n",
       "      <td>...</td>\n",
       "      <td>...</td>\n",
       "    </tr>\n",
       "    <tr>\n",
       "      <td>8224</td>\n",
       "      <td>-7.6313</td>\n",
       "      <td>-7.7113</td>\n",
       "      <td>-8.0290</td>\n",
       "      <td>-8.6597</td>\n",
       "      <td>-9.8506</td>\n",
       "      <td>-11.1339</td>\n",
       "      <td>14.4031</td>\n",
       "      <td>-94.8729</td>\n",
       "      <td>4.0</td>\n",
       "      <td>25.323352</td>\n",
       "    </tr>\n",
       "    <tr>\n",
       "      <td>8225</td>\n",
       "      <td>-7.8590</td>\n",
       "      <td>-7.9045</td>\n",
       "      <td>-8.1471</td>\n",
       "      <td>-8.6852</td>\n",
       "      <td>-9.7932</td>\n",
       "      <td>-11.0855</td>\n",
       "      <td>14.5226</td>\n",
       "      <td>-90.9528</td>\n",
       "      <td>4.0</td>\n",
       "      <td>25.323617</td>\n",
       "    </tr>\n",
       "    <tr>\n",
       "      <td>8226</td>\n",
       "      <td>-8.0373</td>\n",
       "      <td>-8.0760</td>\n",
       "      <td>-8.2650</td>\n",
       "      <td>-8.7243</td>\n",
       "      <td>-9.7447</td>\n",
       "      <td>-11.0400</td>\n",
       "      <td>17.6968</td>\n",
       "      <td>-85.6891</td>\n",
       "      <td>4.0</td>\n",
       "      <td>25.325616</td>\n",
       "    </tr>\n",
       "    <tr>\n",
       "      <td>8227</td>\n",
       "      <td>-8.2845</td>\n",
       "      <td>-8.2529</td>\n",
       "      <td>-8.3710</td>\n",
       "      <td>-8.7687</td>\n",
       "      <td>-9.7071</td>\n",
       "      <td>-10.9868</td>\n",
       "      <td>13.8333</td>\n",
       "      <td>-88.2355</td>\n",
       "      <td>4.0</td>\n",
       "      <td>25.328565</td>\n",
       "    </tr>\n",
       "    <tr>\n",
       "      <td>8228</td>\n",
       "      <td>-8.6132</td>\n",
       "      <td>-8.4832</td>\n",
       "      <td>-8.5223</td>\n",
       "      <td>-8.8365</td>\n",
       "      <td>-9.6687</td>\n",
       "      <td>-10.9526</td>\n",
       "      <td>14.4219</td>\n",
       "      <td>-87.2561</td>\n",
       "      <td>4.0</td>\n",
       "      <td>25.334123</td>\n",
       "    </tr>\n",
       "  </tbody>\n",
       "</table>\n",
       "<p>8047 rows × 10 columns</p>\n",
       "</div>"
      ],
      "text/plain": [
       "      temperature_5cm [°C]  temperature_10cm [°C]  temperature_20cm [°C]  \\\n",
       "0                  -9.4934                -9.1609                -8.7378   \n",
       "1                  -9.5680                -9.2330                -8.8027   \n",
       "2                  -9.6568                -9.3084                -8.8668   \n",
       "3                  -9.7203                -9.3797                -8.9384   \n",
       "4                  -9.7547                -9.4270                -8.9953   \n",
       "...                    ...                    ...                    ...   \n",
       "8224               -7.6313                -7.7113                -8.0290   \n",
       "8225               -7.8590                -7.9045                -8.1471   \n",
       "8226               -8.0373                -8.0760                -8.2650   \n",
       "8227               -8.2845                -8.2529                -8.3710   \n",
       "8228               -8.6132                -8.4832                -8.5223   \n",
       "\n",
       "      temperature_30cm [°C]  temperature_50cm [°C]  temperature_100cm [°C]  \\\n",
       "0                   -8.4231                -7.9328                 -7.1922   \n",
       "1                   -8.4813                -7.9573                 -7.2040   \n",
       "2                   -8.5235                -7.9845                 -7.2081   \n",
       "3                   -8.5756                -8.0103                 -7.2166   \n",
       "4                   -8.6287                -8.0473                 -7.2120   \n",
       "...                     ...                    ...                     ...   \n",
       "8224                -8.6597                -9.8506                -11.1339   \n",
       "8225                -8.6852                -9.7932                -11.0855   \n",
       "8226                -8.7243                -9.7447                -11.0400   \n",
       "8227                -8.7687                -9.7071                -10.9868   \n",
       "8228                -8.8365                -9.6687                -10.9526   \n",
       "\n",
       "      wind_speed_average [km/h]  net_radiation [Wm^-2]  season  \\\n",
       "0                        6.2129              -103.3271     0.0   \n",
       "1                        6.6033              -103.3083     0.0   \n",
       "2                        7.8323              -102.9365     0.0   \n",
       "3                        8.9094              -101.0145     0.0   \n",
       "4                       10.2742              -101.7435     0.0   \n",
       "...                         ...                    ...     ...   \n",
       "8224                    14.4031               -94.8729     4.0   \n",
       "8225                    14.5226               -90.9528     4.0   \n",
       "8226                    17.6968               -85.6891     4.0   \n",
       "8227                    13.8333               -88.2355     4.0   \n",
       "8228                    14.4219               -87.2561     4.0   \n",
       "\n",
       "      displacement_dx1  \n",
       "0            24.508750  \n",
       "1            24.509348  \n",
       "2            24.509739  \n",
       "3            24.511487  \n",
       "4            24.513250  \n",
       "...                ...  \n",
       "8224         25.323352  \n",
       "8225         25.323617  \n",
       "8226         25.325616  \n",
       "8227         25.328565  \n",
       "8228         25.334123  \n",
       "\n",
       "[8047 rows x 10 columns]"
      ]
     },
     "execution_count": 10,
     "metadata": {},
     "output_type": "execute_result"
    }
   ],
   "source": [
    "temp_inner['time'] = pd.to_datetime(temp_inner['time'])\n",
    "temp_inner['season'] = np.round(pd.DatetimeIndex(temp_inner['time']).month/3)\n",
    "del temp_inner['time']\n",
    "\n",
    "temp_inner = temp_inner[['temperature_5cm [°C]', 'temperature_10cm [°C]',\n",
    "       'temperature_20cm [°C]', 'temperature_30cm [°C]',\n",
    "       'temperature_50cm [°C]', 'temperature_100cm [°C]',\n",
    "       'wind_speed_average [km/h]', 'net_radiation [Wm^-2]', 'season','displacement_dx1']]\n",
    "\n",
    "temp_inner.dropna()"
   ]
  },
  {
   "cell_type": "markdown",
   "metadata": {},
   "source": [
    "##  Create the target"
   ]
  },
  {
   "cell_type": "code",
   "execution_count": 11,
   "metadata": {},
   "outputs": [
    {
     "data": {
      "text/html": [
       "<div>\n",
       "<style scoped>\n",
       "    .dataframe tbody tr th:only-of-type {\n",
       "        vertical-align: middle;\n",
       "    }\n",
       "\n",
       "    .dataframe tbody tr th {\n",
       "        vertical-align: top;\n",
       "    }\n",
       "\n",
       "    .dataframe thead th {\n",
       "        text-align: right;\n",
       "    }\n",
       "</style>\n",
       "<table border=\"1\" class=\"dataframe\">\n",
       "  <thead>\n",
       "    <tr style=\"text-align: right;\">\n",
       "      <th></th>\n",
       "      <th>temperature_5cm [°C]</th>\n",
       "      <th>temperature_10cm [°C]</th>\n",
       "      <th>temperature_20cm [°C]</th>\n",
       "      <th>temperature_30cm [°C]</th>\n",
       "      <th>temperature_50cm [°C]</th>\n",
       "      <th>temperature_100cm [°C]</th>\n",
       "      <th>wind_speed_average [km/h]</th>\n",
       "      <th>net_radiation [Wm^-2]</th>\n",
       "      <th>season</th>\n",
       "      <th>displacement_dx1</th>\n",
       "    </tr>\n",
       "  </thead>\n",
       "  <tbody>\n",
       "    <tr>\n",
       "      <td>0</td>\n",
       "      <td>-9.4934</td>\n",
       "      <td>-9.1609</td>\n",
       "      <td>-8.7378</td>\n",
       "      <td>-8.4231</td>\n",
       "      <td>-7.9328</td>\n",
       "      <td>-7.1922</td>\n",
       "      <td>6.2129</td>\n",
       "      <td>-103.3271</td>\n",
       "      <td>0.0</td>\n",
       "      <td>24.509348</td>\n",
       "    </tr>\n",
       "    <tr>\n",
       "      <td>1</td>\n",
       "      <td>-9.5680</td>\n",
       "      <td>-9.2330</td>\n",
       "      <td>-8.8027</td>\n",
       "      <td>-8.4813</td>\n",
       "      <td>-7.9573</td>\n",
       "      <td>-7.2040</td>\n",
       "      <td>6.6033</td>\n",
       "      <td>-103.3083</td>\n",
       "      <td>0.0</td>\n",
       "      <td>24.509739</td>\n",
       "    </tr>\n",
       "    <tr>\n",
       "      <td>2</td>\n",
       "      <td>-9.6568</td>\n",
       "      <td>-9.3084</td>\n",
       "      <td>-8.8668</td>\n",
       "      <td>-8.5235</td>\n",
       "      <td>-7.9845</td>\n",
       "      <td>-7.2081</td>\n",
       "      <td>7.8323</td>\n",
       "      <td>-102.9365</td>\n",
       "      <td>0.0</td>\n",
       "      <td>24.511487</td>\n",
       "    </tr>\n",
       "    <tr>\n",
       "      <td>3</td>\n",
       "      <td>-9.7203</td>\n",
       "      <td>-9.3797</td>\n",
       "      <td>-8.9384</td>\n",
       "      <td>-8.5756</td>\n",
       "      <td>-8.0103</td>\n",
       "      <td>-7.2166</td>\n",
       "      <td>8.9094</td>\n",
       "      <td>-101.0145</td>\n",
       "      <td>0.0</td>\n",
       "      <td>24.513250</td>\n",
       "    </tr>\n",
       "    <tr>\n",
       "      <td>4</td>\n",
       "      <td>-9.7547</td>\n",
       "      <td>-9.4270</td>\n",
       "      <td>-8.9953</td>\n",
       "      <td>-8.6287</td>\n",
       "      <td>-8.0473</td>\n",
       "      <td>-7.2120</td>\n",
       "      <td>10.2742</td>\n",
       "      <td>-101.7435</td>\n",
       "      <td>0.0</td>\n",
       "      <td>24.515465</td>\n",
       "    </tr>\n",
       "  </tbody>\n",
       "</table>\n",
       "</div>"
      ],
      "text/plain": [
       "   temperature_5cm [°C]  temperature_10cm [°C]  temperature_20cm [°C]  \\\n",
       "0               -9.4934                -9.1609                -8.7378   \n",
       "1               -9.5680                -9.2330                -8.8027   \n",
       "2               -9.6568                -9.3084                -8.8668   \n",
       "3               -9.7203                -9.3797                -8.9384   \n",
       "4               -9.7547                -9.4270                -8.9953   \n",
       "\n",
       "   temperature_30cm [°C]  temperature_50cm [°C]  temperature_100cm [°C]  \\\n",
       "0                -8.4231                -7.9328                 -7.1922   \n",
       "1                -8.4813                -7.9573                 -7.2040   \n",
       "2                -8.5235                -7.9845                 -7.2081   \n",
       "3                -8.5756                -8.0103                 -7.2166   \n",
       "4                -8.6287                -8.0473                 -7.2120   \n",
       "\n",
       "   wind_speed_average [km/h]  net_radiation [Wm^-2]  season  displacement_dx1  \n",
       "0                     6.2129              -103.3271     0.0         24.509348  \n",
       "1                     6.6033              -103.3083     0.0         24.509739  \n",
       "2                     7.8323              -102.9365     0.0         24.511487  \n",
       "3                     8.9094              -101.0145     0.0         24.513250  \n",
       "4                    10.2742              -101.7435     0.0         24.515465  "
      ]
     },
     "execution_count": 11,
     "metadata": {},
     "output_type": "execute_result"
    }
   ],
   "source": [
    "lag = -1\n",
    "#diff = temp_inner['temperature_100cm [°C]'] - temp_inner['temperature_5cm [°C]']\n",
    "#temp_inner.insert(0, 'delta_t', diff)\n",
    "\n",
    "\n",
    "# shift \n",
    "temp_inner['displacement_dx1'] = temp_inner['displacement_dx1'].shift(lag)\n",
    "temp_inner = temp_inner.drop(temp_inner.index[temp_inner.shape[0] : temp_inner.shape[0] + lag])\n",
    "temp_inner = temp_inner.replace(np.nan, 0)\n",
    "temp_inner.head()"
   ]
  },
  {
   "cell_type": "markdown",
   "metadata": {},
   "source": [
    "## Train test split"
   ]
  },
  {
   "cell_type": "code",
   "execution_count": 12,
   "metadata": {},
   "outputs": [],
   "source": [
    "X, y = temp_inner.drop(['displacement_dx1'], axis=1), temp_inner['displacement_dx1']"
   ]
  },
  {
   "cell_type": "code",
   "execution_count": 13,
   "metadata": {},
   "outputs": [],
   "source": [
    "# split train and validation data\n",
    "validation_fraction = 0.2\n",
    "validation_first = False\n",
    "\n",
    "\n",
    "val_size = int(validation_fraction * X.shape[0])\n",
    "train_size = X.shape[0] - val_size\n",
    "\n",
    "if validation_first:\n",
    "    X_train, X_val = Y[val_size:], X[:val_size]\n",
    "    y_train, y_val = y[val_size:], y[:val_size]\n",
    "    \n",
    "else:\n",
    "    X_train, X_val = X[:train_size], X[train_size:]\n",
    "    y_train, y_val = y[:train_size], y[train_size:]\n"
   ]
  },
  {
   "cell_type": "code",
   "execution_count": 16,
   "metadata": {},
   "outputs": [
    {
     "data": {
      "text/html": [
       "<div>\n",
       "<style scoped>\n",
       "    .dataframe tbody tr th:only-of-type {\n",
       "        vertical-align: middle;\n",
       "    }\n",
       "\n",
       "    .dataframe tbody tr th {\n",
       "        vertical-align: top;\n",
       "    }\n",
       "\n",
       "    .dataframe thead th {\n",
       "        text-align: right;\n",
       "    }\n",
       "</style>\n",
       "<table border=\"1\" class=\"dataframe\">\n",
       "  <thead>\n",
       "    <tr style=\"text-align: right;\">\n",
       "      <th></th>\n",
       "      <th>temperature_5cm [°C]</th>\n",
       "      <th>temperature_10cm [°C]</th>\n",
       "      <th>temperature_20cm [°C]</th>\n",
       "      <th>temperature_30cm [°C]</th>\n",
       "      <th>temperature_50cm [°C]</th>\n",
       "      <th>temperature_100cm [°C]</th>\n",
       "      <th>wind_speed_average [km/h]</th>\n",
       "      <th>net_radiation [Wm^-2]</th>\n",
       "      <th>season</th>\n",
       "    </tr>\n",
       "  </thead>\n",
       "  <tbody>\n",
       "    <tr>\n",
       "      <td>8219</td>\n",
       "      <td>-5.9159</td>\n",
       "      <td>-6.6131</td>\n",
       "      <td>-7.8184</td>\n",
       "      <td>-8.9634</td>\n",
       "      <td>-10.3381</td>\n",
       "      <td>-11.3975</td>\n",
       "      <td>12.4871</td>\n",
       "      <td>-87.1849</td>\n",
       "      <td>4.0</td>\n",
       "    </tr>\n",
       "    <tr>\n",
       "      <td>8220</td>\n",
       "      <td>-6.1581</td>\n",
       "      <td>-6.6884</td>\n",
       "      <td>-7.7403</td>\n",
       "      <td>-8.7826</td>\n",
       "      <td>-10.2300</td>\n",
       "      <td>-11.3284</td>\n",
       "      <td>15.1067</td>\n",
       "      <td>-86.6400</td>\n",
       "      <td>4.0</td>\n",
       "    </tr>\n",
       "    <tr>\n",
       "      <td>8221</td>\n",
       "      <td>-6.5924</td>\n",
       "      <td>-6.9188</td>\n",
       "      <td>-7.7315</td>\n",
       "      <td>-8.6855</td>\n",
       "      <td>-10.1106</td>\n",
       "      <td>-11.2736</td>\n",
       "      <td>17.5258</td>\n",
       "      <td>-99.1272</td>\n",
       "      <td>4.0</td>\n",
       "    </tr>\n",
       "    <tr>\n",
       "      <td>8222</td>\n",
       "      <td>-6.9997</td>\n",
       "      <td>-7.1883</td>\n",
       "      <td>-7.8033</td>\n",
       "      <td>-8.6500</td>\n",
       "      <td>-10.0187</td>\n",
       "      <td>-11.2287</td>\n",
       "      <td>11.5290</td>\n",
       "      <td>-92.9561</td>\n",
       "      <td>4.0</td>\n",
       "    </tr>\n",
       "    <tr>\n",
       "      <td>8223</td>\n",
       "      <td>-7.3434</td>\n",
       "      <td>-7.4478</td>\n",
       "      <td>-7.9041</td>\n",
       "      <td>-8.6388</td>\n",
       "      <td>-9.9316</td>\n",
       "      <td>-11.1834</td>\n",
       "      <td>11.7355</td>\n",
       "      <td>-96.2305</td>\n",
       "      <td>4.0</td>\n",
       "    </tr>\n",
       "    <tr>\n",
       "      <td>8224</td>\n",
       "      <td>-7.6313</td>\n",
       "      <td>-7.7113</td>\n",
       "      <td>-8.0290</td>\n",
       "      <td>-8.6597</td>\n",
       "      <td>-9.8506</td>\n",
       "      <td>-11.1339</td>\n",
       "      <td>14.4031</td>\n",
       "      <td>-94.8729</td>\n",
       "      <td>4.0</td>\n",
       "    </tr>\n",
       "    <tr>\n",
       "      <td>8225</td>\n",
       "      <td>-7.8590</td>\n",
       "      <td>-7.9045</td>\n",
       "      <td>-8.1471</td>\n",
       "      <td>-8.6852</td>\n",
       "      <td>-9.7932</td>\n",
       "      <td>-11.0855</td>\n",
       "      <td>14.5226</td>\n",
       "      <td>-90.9528</td>\n",
       "      <td>4.0</td>\n",
       "    </tr>\n",
       "    <tr>\n",
       "      <td>8226</td>\n",
       "      <td>-8.0373</td>\n",
       "      <td>-8.0760</td>\n",
       "      <td>-8.2650</td>\n",
       "      <td>-8.7243</td>\n",
       "      <td>-9.7447</td>\n",
       "      <td>-11.0400</td>\n",
       "      <td>17.6968</td>\n",
       "      <td>-85.6891</td>\n",
       "      <td>4.0</td>\n",
       "    </tr>\n",
       "    <tr>\n",
       "      <td>8227</td>\n",
       "      <td>-8.2845</td>\n",
       "      <td>-8.2529</td>\n",
       "      <td>-8.3710</td>\n",
       "      <td>-8.7687</td>\n",
       "      <td>-9.7071</td>\n",
       "      <td>-10.9868</td>\n",
       "      <td>13.8333</td>\n",
       "      <td>-88.2355</td>\n",
       "      <td>4.0</td>\n",
       "    </tr>\n",
       "    <tr>\n",
       "      <td>8228</td>\n",
       "      <td>-8.6132</td>\n",
       "      <td>-8.4832</td>\n",
       "      <td>-8.5223</td>\n",
       "      <td>-8.8365</td>\n",
       "      <td>-9.6687</td>\n",
       "      <td>-10.9526</td>\n",
       "      <td>14.4219</td>\n",
       "      <td>-87.2561</td>\n",
       "      <td>4.0</td>\n",
       "    </tr>\n",
       "  </tbody>\n",
       "</table>\n",
       "</div>"
      ],
      "text/plain": [
       "      temperature_5cm [°C]  temperature_10cm [°C]  temperature_20cm [°C]  \\\n",
       "8219               -5.9159                -6.6131                -7.8184   \n",
       "8220               -6.1581                -6.6884                -7.7403   \n",
       "8221               -6.5924                -6.9188                -7.7315   \n",
       "8222               -6.9997                -7.1883                -7.8033   \n",
       "8223               -7.3434                -7.4478                -7.9041   \n",
       "8224               -7.6313                -7.7113                -8.0290   \n",
       "8225               -7.8590                -7.9045                -8.1471   \n",
       "8226               -8.0373                -8.0760                -8.2650   \n",
       "8227               -8.2845                -8.2529                -8.3710   \n",
       "8228               -8.6132                -8.4832                -8.5223   \n",
       "\n",
       "      temperature_30cm [°C]  temperature_50cm [°C]  temperature_100cm [°C]  \\\n",
       "8219                -8.9634               -10.3381                -11.3975   \n",
       "8220                -8.7826               -10.2300                -11.3284   \n",
       "8221                -8.6855               -10.1106                -11.2736   \n",
       "8222                -8.6500               -10.0187                -11.2287   \n",
       "8223                -8.6388                -9.9316                -11.1834   \n",
       "8224                -8.6597                -9.8506                -11.1339   \n",
       "8225                -8.6852                -9.7932                -11.0855   \n",
       "8226                -8.7243                -9.7447                -11.0400   \n",
       "8227                -8.7687                -9.7071                -10.9868   \n",
       "8228                -8.8365                -9.6687                -10.9526   \n",
       "\n",
       "      wind_speed_average [km/h]  net_radiation [Wm^-2]  season  \n",
       "8219                    12.4871               -87.1849     4.0  \n",
       "8220                    15.1067               -86.6400     4.0  \n",
       "8221                    17.5258               -99.1272     4.0  \n",
       "8222                    11.5290               -92.9561     4.0  \n",
       "8223                    11.7355               -96.2305     4.0  \n",
       "8224                    14.4031               -94.8729     4.0  \n",
       "8225                    14.5226               -90.9528     4.0  \n",
       "8226                    17.6968               -85.6891     4.0  \n",
       "8227                    13.8333               -88.2355     4.0  \n",
       "8228                    14.4219               -87.2561     4.0  "
      ]
     },
     "execution_count": 16,
     "metadata": {},
     "output_type": "execute_result"
    }
   ],
   "source": [
    "X_val[-10:]"
   ]
  },
  {
   "cell_type": "markdown",
   "metadata": {},
   "source": [
    "## Data Standartization"
   ]
  },
  {
   "cell_type": "code",
   "execution_count": 17,
   "metadata": {},
   "outputs": [],
   "source": [
    "#Y_MEAN, Y_STD = y_train.mean(), y_train.std()\n",
    "\n",
    "#y_train = (y_train - Y_MEAN)/Y_STD\n",
    "#y_val   = (y_val -   Y_MEAN)/Y_STD\n",
    "#X_MEAN, X_STD = X_train.mean(), X_train.std()\n",
    "#X_train = (X_train - X_MEAN)/X_STD\n",
    "#X_val = (X_val - X_MEAN)/X_STD"
   ]
  },
  {
   "cell_type": "code",
   "execution_count": 18,
   "metadata": {},
   "outputs": [],
   "source": [
    "input_shape = X_train.shape\n",
    "n_units = 80\n",
    "n_layers = 3\n",
    "n_frames = 5 # length of autoregressive sequence"
   ]
  },
  {
   "cell_type": "code",
   "execution_count": 19,
   "metadata": {},
   "outputs": [
    {
     "data": {
      "text/plain": [
       "(6584, 9)"
      ]
     },
     "execution_count": 19,
     "metadata": {},
     "output_type": "execute_result"
    }
   ],
   "source": [
    "input_shape"
   ]
  },
  {
   "cell_type": "markdown",
   "metadata": {},
   "source": [
    "## Define the LSTM model"
   ]
  },
  {
   "cell_type": "code",
   "execution_count": 20,
   "metadata": {
    "scrolled": true
   },
   "outputs": [],
   "source": [
    "from tensorflow.keras import layers, models\n",
    "i = layers.Input(shape = (n_frames, 9)) # (?, n_frames, channels) \n",
    "\n",
    "# add the lstm layers\n",
    "x = layers.LSTM(n_units, activation='tanh', recurrent_activation='hard_sigmoid', \n",
    "                   return_sequences=True)(i) # (?, n_units)\n",
    "#x = layers.BatchNormalization()(x)\n",
    "n_units *= 2\n",
    "\n",
    "x = layers.LSTM(n_units, activation='tanh', recurrent_activation='hard_sigmoid', \n",
    "                   return_sequences=True)(x) # (?, n_units)\n",
    "#x = layers.BatchNormalization()(x)\n",
    "n_units *= 2\n",
    "\n",
    "x = layers.LSTM(n_units, activation='tanh', recurrent_activation='hard_sigmoid', \n",
    "                   return_sequences=True)(x) # (?, n_units)\n",
    "#x = layers.BatchNormalization()(x)\n",
    "n_units *= 2\n",
    "\n",
    "x = layers.LSTM(n_units, activation='tanh', recurrent_activation='hard_sigmoid', \n",
    "                   return_sequences=False)(x) # (?, n_units)\n",
    "#x = layers.BatchNormalization()(x)\n",
    "#n_units *= 2            \n",
    "\n",
    "#x = layers.Flatten()(x)\n",
    "x = layers.Dense(128)(x)\n",
    "x = layers.Activation('relu')(x)\n",
    "\n",
    "o = layers.Dense(1, activation = 'linear')(x)"
   ]
  },
  {
   "cell_type": "code",
   "execution_count": 21,
   "metadata": {},
   "outputs": [],
   "source": [
    "model = models.Model(inputs=[i], outputs=[o])"
   ]
  },
  {
   "cell_type": "code",
   "execution_count": 22,
   "metadata": {},
   "outputs": [
    {
     "name": "stdout",
     "output_type": "stream",
     "text": [
      "Model: \"model\"\n",
      "_________________________________________________________________\n",
      "Layer (type)                 Output Shape              Param #   \n",
      "=================================================================\n",
      "input_1 (InputLayer)         [(None, 5, 9)]            0         \n",
      "_________________________________________________________________\n",
      "lstm (LSTM)                  (None, 5, 80)             28800     \n",
      "_________________________________________________________________\n",
      "lstm_1 (LSTM)                (None, 5, 160)            154240    \n",
      "_________________________________________________________________\n",
      "lstm_2 (LSTM)                (None, 5, 320)            615680    \n",
      "_________________________________________________________________\n",
      "lstm_3 (LSTM)                (None, 640)               2460160   \n",
      "_________________________________________________________________\n",
      "dense (Dense)                (None, 128)               82048     \n",
      "_________________________________________________________________\n",
      "activation (Activation)      (None, 128)               0         \n",
      "_________________________________________________________________\n",
      "dense_1 (Dense)              (None, 1)                 129       \n",
      "=================================================================\n",
      "Total params: 3,341,057\n",
      "Trainable params: 3,341,057\n",
      "Non-trainable params: 0\n",
      "_________________________________________________________________\n"
     ]
    }
   ],
   "source": [
    "model.summary()"
   ]
  },
  {
   "cell_type": "code",
   "execution_count": 23,
   "metadata": {},
   "outputs": [],
   "source": [
    "from tensorflow.keras import optimizers, losses, metrics\n",
    "    \n",
    "model.compile(optimizer=optimizers.Adam(lr=1e-3),\n",
    "              loss=losses.mse)\n",
    "              #metrics=[metrics.mse])"
   ]
  },
  {
   "cell_type": "code",
   "execution_count": 24,
   "metadata": {},
   "outputs": [],
   "source": [
    "from tensorflow.keras import utils\n",
    "class SequenceGenerator(utils.Sequence):\n",
    "    '''Generates image sequences'''\n",
    "\n",
    "    def __init__(self, data, labels, batch_size=32, n_frames=5):\n",
    "        '''Initialization'''\n",
    "        self.data = data\n",
    "        self.labels = labels\n",
    "        self.batch_size = batch_size\n",
    "        self.n_frames = n_frames\n",
    "\n",
    "    def __len__(self):\n",
    "        '''Denotes the number of batches per epoch'''\n",
    "        return int(np.floor(len(self.data) / self.batch_size))\n",
    "\n",
    "    def __getitem__(self, index):\n",
    "        '''Generate one batch of data'''\n",
    "\n",
    "        batch_x, batch_y = [], []\n",
    "\n",
    "        for _ in range(self.batch_size):\n",
    "            # Get start index of sequence\n",
    "            start_index = np.random.randint(0, len(self.data) - self.n_frames)\n",
    "            stop_index = start_index + self.n_frames\n",
    "\n",
    "            # x = image sequence\n",
    "            x = self.data[start_index:stop_index].values\n",
    "            # y = streamflow at end point\n",
    "            y = self.labels[stop_index]\n",
    "            batch_x.append(x)\n",
    "            batch_y.append(y)\n",
    "\n",
    "        batch_x = np.array(batch_x)\n",
    "        batch_y = np.array(batch_y)\n",
    "\n",
    "        return batch_x, batch_y\n"
   ]
  },
  {
   "cell_type": "code",
   "execution_count": 25,
   "metadata": {},
   "outputs": [],
   "source": [
    "batch_size = 120\n",
    "n_epochs = 5\n",
    "generator_train = SequenceGenerator(data = X_train, labels = y_train, batch_size = batch_size, n_frames = n_frames)\n",
    "generator_test = SequenceGenerator(data = X_val, labels = y_val, batch_size = batch_size, n_frames = n_frames)"
   ]
  },
  {
   "cell_type": "markdown",
   "metadata": {},
   "source": [
    "## Train the model"
   ]
  },
  {
   "cell_type": "code",
   "execution_count": null,
   "metadata": {},
   "outputs": [
    {
     "name": "stdout",
     "output_type": "stream",
     "text": [
      "Epoch 1/5\n",
      "54/54 [==============================] - 86s 2s/step - loss: 73.7284\n",
      "Epoch 2/5\n",
      "54/54 [==============================] - 83s 2s/step - loss: 0.8246\n",
      "Epoch 3/5\n",
      "16/54 [=======>......................] - ETA: 1:06 - loss: 0.6836"
     ]
    }
   ],
   "source": [
    "history = model.fit_generator(generator = generator_train,\n",
    "                              steps_per_epoch = len(X_train)//batch_size,\n",
    "                              epochs = n_epochs)"
   ]
  },
  {
   "cell_type": "code",
   "execution_count": null,
   "metadata": {},
   "outputs": [],
   "source": [
    "plt.plot(history.history['loss'])"
   ]
  },
  {
   "cell_type": "markdown",
   "metadata": {},
   "source": [
    "## Test on validation set"
   ]
  },
  {
   "cell_type": "code",
   "execution_count": null,
   "metadata": {},
   "outputs": [],
   "source": [
    "predictions = []\n",
    "y_truth = []\n",
    "for t in range(0, len(X_val)-n_frames):\n",
    "    start_index = t\n",
    "    stop_index = start_index + n_frames\n",
    "    data = X_val[start_index : stop_index].values\n",
    "    data = data[np.newaxis, ...]\n",
    "    p = np.asscalar(model.predict( data))\n",
    "    # p = p * y_std + y_mean\n",
    "    predictions.append(p)\n",
    "    y_truth.append(y_val.iloc[stop_index])"
   ]
  },
  {
   "cell_type": "code",
   "execution_count": null,
   "metadata": {},
   "outputs": [],
   "source": [
    "pd.concat([pd.DataFrame(y_truth, columns=['True']), \n",
    "           pd.DataFrame(predictions, columns = [\"Predicted\"])], axis = 1).plot(figsize=(12,5))"
   ]
  },
  {
   "cell_type": "code",
   "execution_count": null,
   "metadata": {},
   "outputs": [],
   "source": [
    "rmse = np.sqrt(metrics.mean_squared_error(y_truth, predictions))\n",
    "print(\"The RMSE is \" + str(rmse))"
   ]
  },
  {
   "cell_type": "code",
   "execution_count": 32,
   "metadata": {},
   "outputs": [
    {
     "data": {
      "text/plain": [
       "[25.323916129032252,\n",
       " 25.322978125000002,\n",
       " 25.324040000000004,\n",
       " 25.323900000000002,\n",
       " 25.32335161290322,\n",
       " 25.32361666666667,\n",
       " 25.32561612903225,\n",
       " 25.328564516129035,\n",
       " 25.33412258064517,\n",
       " 0.0]"
      ]
     },
     "execution_count": 32,
     "metadata": {},
     "output_type": "execute_result"
    }
   ],
   "source": [
    "y_truth[-10:]"
   ]
  },
  {
   "cell_type": "code",
   "execution_count": 33,
   "metadata": {},
   "outputs": [
    {
     "data": {
      "text/plain": [
       "8219    25.323916\n",
       "8220    25.322978\n",
       "8221    25.324040\n",
       "8222    25.323900\n",
       "8223    25.323352\n",
       "8224    25.323617\n",
       "8225    25.325616\n",
       "8226    25.328565\n",
       "8227    25.334123\n",
       "8228     0.000000\n",
       "Name: displacement_dx1, dtype: float64"
      ]
     },
     "execution_count": 33,
     "metadata": {},
     "output_type": "execute_result"
    }
   ],
   "source": [
    "y_val[-10:]"
   ]
  },
  {
   "cell_type": "code",
   "execution_count": null,
   "metadata": {},
   "outputs": [],
   "source": []
  }
 ],
 "metadata": {
  "kernelspec": {
   "display_name": "Python 3",
   "language": "python",
   "name": "python3"
  },
  "language_info": {
   "codemirror_mode": {
    "name": "ipython",
    "version": 3
   },
   "file_extension": ".py",
   "mimetype": "text/x-python",
   "name": "python",
   "nbconvert_exporter": "python",
   "pygments_lexer": "ipython3",
   "version": "3.7.4"
  }
 },
 "nbformat": 4,
 "nbformat_minor": 4
}
