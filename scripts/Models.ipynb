{
 "cells": [
  {
   "cell_type": "code",
   "execution_count": 106,
   "metadata": {},
   "outputs": [],
   "source": [
    "import pandas as pd\n",
    "import numpy as np\n",
    "import matplotlib.pyplot as plt\n",
    "import xgboost as xgb\n",
    "from sklearn.model_selection import train_test_split,TimeSeriesSplit\n",
    "from sklearn import metrics\n",
    "import statsmodels.api as sm\n",
    "from sklearn.ensemble import RandomForestRegressor\n",
    "from sklearn.datasets import make_regression\n",
    "from nested_cv import NestedCV\n",
    "\n",
    "def prepareData(lag):\n",
    "    # all data\n",
    "    prec = pd.read_csv('../data/MH25_vaisalawxt520prec_2017.csv')\n",
    "    wind = pd.read_csv('../data/MH25_vaisalawxt520windpth_2017.csv')\n",
    "    temp = pd.read_csv('../data/MH30_temperature_rock_2017.csv')\n",
    "    radio = pd.read_csv('../data/MH15_radiometer__conv_2017.csv')\n",
    "\n",
    "    # join all data by time\n",
    "    temp0 = pd.merge(left=temp, right=prec, left_on='time', right_on='time')\n",
    "    temp0 = pd.merge(left=temp0, right=wind, left_on='time', right_on='time')\n",
    "    temp0 = pd.merge(left=temp0, right=radio, left_on='time', right_on='time')\n",
    "\n",
    "    # format season, remove datetime and select columns\n",
    "    temp0['time'] = pd.to_datetime(temp0['time'])\n",
    "    temp0['season'] = np.round(pd.DatetimeIndex(temp0['time']).month/3)\n",
    "    del temp0['time']\n",
    "    temp0 = temp0[['temperature_5cm [°C]', 'temperature_10cm [°C]',\n",
    "       'temperature_20cm [°C]', 'temperature_30cm [°C]',\n",
    "       'temperature_50cm [°C]', 'temperature_100cm [°C]',\n",
    "       'wind_speed_average [km/h]', 'net_radiation [Wm^-2]', 'season']]\n",
    "\n",
    "    # difference between ground and deepest temperature --> objective\n",
    "    diff = abs(temp0['temperature_100cm [°C]'] - temp0['temperature_5cm [°C]'])\n",
    "    temp0.insert(0, 'delta_t', diff)\n",
    "\n",
    "    # shift \n",
    "    temp0.head()\n",
    "    temp0['delta_t'] = temp0['delta_t'].shift(lag)\n",
    "    temp0.head()\n",
    "\n",
    "    # show correlation (within same time period)\n",
    "    #print(abs(temp0.corr()['delta_t']).sort_values(ascending=False))\n",
    "\n",
    "    # clean column names and remove inf/nas\n",
    "    temp0.columns = temp0.columns.str.replace(\"[\", \"_\")\n",
    "    temp0.columns = temp0.columns.str.replace(\"]\", \"_\")\n",
    "    temp0 = temp0.fillna(0)\n",
    "    return temp0\n"
   ]
  },
  {
   "cell_type": "code",
   "execution_count": 97,
   "metadata": {},
   "outputs": [
    {
     "name": "stdout",
     "output_type": "stream",
     "text": [
      "                                 OLS Regression Results                                \n",
      "=======================================================================================\n",
      "Dep. Variable:                delta_t   R-squared (uncentered):                   0.640\n",
      "Model:                            OLS   Adj. R-squared (uncentered):              0.639\n",
      "Method:                 Least Squares   F-statistic:                              1207.\n",
      "Date:                Fri, 29 Nov 2019   Prob (F-statistic):                        0.00\n",
      "Time:                        18:27:33   Log-Likelihood:                         -11215.\n",
      "No. Observations:                6131   AIC:                                  2.245e+04\n",
      "Df Residuals:                    6122   BIC:                                  2.251e+04\n",
      "Df Model:                           9                                                  \n",
      "Covariance Type:            nonrobust                                                  \n",
      "=============================================================================================\n",
      "                                coef    std err          t      P>|t|      [0.025      0.975]\n",
      "---------------------------------------------------------------------------------------------\n",
      "temperature_5cm _°C_          0.0170      0.016      1.077      0.282      -0.014       0.048\n",
      "temperature_10cm _°C_         0.0358      0.027      1.322      0.186      -0.017       0.089\n",
      "temperature_20cm _°C_        -0.0365      0.030     -1.213      0.225      -0.095       0.022\n",
      "temperature_30cm _°C_        -0.4999      0.072     -6.937      0.000      -0.641      -0.359\n",
      "temperature_50cm _°C_         1.0399      0.101     10.333      0.000       0.843       1.237\n",
      "temperature_100cm _°C_       -0.7236      0.042    -17.196      0.000      -0.806      -0.641\n",
      "wind_speed_average _km/h_    -0.0125      0.002     -7.488      0.000      -0.016      -0.009\n",
      "net_radiation _Wm^-2_         0.0030      0.000     27.451      0.000       0.003       0.003\n",
      "season                        0.5931      0.018     32.608      0.000       0.557       0.629\n",
      "==============================================================================\n",
      "Omnibus:                     1385.844   Durbin-Watson:                   0.072\n",
      "Prob(Omnibus):                  0.000   Jarque-Bera (JB):             3411.840\n",
      "Skew:                           1.242   Prob(JB):                         0.00\n",
      "Kurtosis:                       5.681   Cond. No.                     1.32e+03\n",
      "==============================================================================\n",
      "\n",
      "Warnings:\n",
      "[1] Standard Errors assume that the covariance matrix of the errors is correctly specified.\n",
      "[2] The condition number is large, 1.32e+03. This might indicate that there are\n",
      "strong multicollinearity or other numerical problems.\n",
      "The RMSE is 2.010556701634847\n"
     ]
    }
   ],
   "source": [
    "\n",
    "shift = -4\n",
    "temp0 = prepareData(shift)\n",
    "\n",
    "# create test and train samples\n",
    "n = temp0.shape[0]\n",
    "sep = int(np.round(0.7 * n))\n",
    "X, y = temp0.iloc[:, 1:], temp0.iloc[:, 0]\n",
    "y_train = y.iloc[1:sep]\n",
    "y_test = y.iloc[sep+1:n]\n",
    "X_train = X.iloc[1:sep,:]\n",
    "X_test = X.iloc[sep+1:n,:]\n",
    "\n",
    "# train model and predict\n",
    "model = sm.OLS(y_train, X_train).fit()\n",
    "preds = model.predict(X_test)\n",
    "\n",
    "print(model.summary())\n",
    "\n",
    "rmse = np.sqrt(metrics.mean_squared_error(y_test, preds))\n",
    "print(\"The RMSE is \" + str(rmse))"
   ]
  },
  {
   "cell_type": "code",
   "execution_count": 113,
   "metadata": {},
   "outputs": [
    {
     "name": "stdout",
     "output_type": "stream",
     "text": [
      "The RMSE is 1.3436536263434677\n"
     ]
    }
   ],
   "source": [
    "regressor = RandomForestRegressor(n_estimators=20, random_state=0)\n",
    "regressor.fit(X_train, y_train)\n",
    "preds = regressor.predict(X_test)\n",
    "\n",
    "rmse = np.sqrt(metrics.mean_squared_error(y_test, preds))\n",
    "print(\"The RMSE is \" + str(rmse))\n",
    "\n"
   ]
  },
  {
   "cell_type": "code",
   "execution_count": 122,
   "metadata": {},
   "outputs": [
    {
     "name": "stdout",
     "output_type": "stream",
     "text": [
      "[1.9223478669517418, 1.36706770814626, 1.206594070717174, 1.1954797131216015, 2.0955849818428565, 1.4786841730589961, 0.8233705247337125, 1.0106378309855621, 1.2375508972932212, 1.0574939841705309, 1.6881865982945679, 1.1792113242543205]\n"
     ]
    }
   ],
   "source": [
    "\n",
    "regressor = RandomForestRegressor(n_estimators=20, random_state=0)\n",
    "\n",
    "tscv = TimeSeriesSplit(n_splits = 12)\n",
    "rmse = []\n",
    "for train_index, test_index in tscv.split(X.iloc[:,1]):\n",
    "    regressor.fit(X.iloc[train_index,:], y.iloc[train_index])\n",
    "    preds = regressor.predict(X.iloc[test_index,:])\n",
    "    rmse.append(np.sqrt(metrics.mean_squared_error(y[test_index], preds)))\n",
    "\n",
    "print(rmse)"
   ]
  },
  {
   "cell_type": "code",
   "execution_count": 102,
   "metadata": {},
   "outputs": [
    {
     "name": "stdout",
     "output_type": "stream",
     "text": [
      "The RMSE is 1.694678055424131\n"
     ]
    },
    {
     "name": "stderr",
     "output_type": "stream",
     "text": [
      "/opt/anaconda3/envs/permafrost/lib/python3.7/site-packages/xgboost/core.py:587: FutureWarning: Series.base is deprecated and will be removed in a future version\n",
      "  if getattr(data, 'base', None) is not None and \\\n",
      "/opt/anaconda3/envs/permafrost/lib/python3.7/site-packages/xgboost/core.py:588: FutureWarning: Series.base is deprecated and will be removed in a future version\n",
      "  data.base is not None and isinstance(data, np.ndarray) \\\n"
     ]
    }
   ],
   "source": [
    "xg_reg = xgb.XGBRegressor(objective ='reg:squarederror', colsample_bytree = 0.3, learning_rate = 0.1,\n",
    "                max_depth = 5, alpha = 10, n_estimators = 10)\n",
    "xg_reg.fit(X_train,y_train)\n",
    "\n",
    "preds = xg_reg.predict(X_test)\n",
    "\n",
    "rmse = np.sqrt(metrics.mean_squared_error(y_test, preds))\n",
    "print(\"The RMSE is \" + str(rmse))"
   ]
  },
  {
   "cell_type": "code",
   "execution_count": null,
   "metadata": {},
   "outputs": [],
   "source": []
  }
 ],
 "metadata": {
  "kernelspec": {
   "display_name": "Python 3",
   "language": "python",
   "name": "python3"
  },
  "language_info": {
   "codemirror_mode": {
    "name": "ipython",
    "version": 3
   },
   "file_extension": ".py",
   "mimetype": "text/x-python",
   "name": "python",
   "nbconvert_exporter": "python",
   "pygments_lexer": "ipython3",
   "version": "3.7.0"
  }
 },
 "nbformat": 4,
 "nbformat_minor": 4
}
